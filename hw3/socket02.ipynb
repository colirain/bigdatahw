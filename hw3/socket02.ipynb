{
 "cells": [
  {
   "cell_type": "code",
   "execution_count": 1,
   "metadata": {},
   "outputs": [],
   "source": [
    "import socket\n",
    "import sys\n",
    "import requests \n",
    "import requests_oauthlib\n",
    "import json\n",
    "import time\n",
    "\n",
    "# CONSUMER_KEY = \"L0wvzJIRsC4AgOCB9Mng4z5OP\"\n",
    "# CONSUMER_SECRET = \"MaSEsGLADbvQbPEUIINxF0IMx99GBDay6KV3xc5tqzvZ6G7U1X \" \n",
    "# ACCESS_TOKEN = \"1052075882620301312-wvZyyn4PDLaPjzgwdvX8LQD7Nu6X1R\" \n",
    "# ACCESS_SECRET = \"Reg1bUQJ7fsk2V3pnJ1qodqn1m17mDQYfSGYQ0GLyDX6I\"\n",
    "\n",
    "ACCESS_TOKEN = '1048005627816169473-5tJdLYafXOfCUaHWDFtcqjCvBRdU90'\n",
    "ACCESS_SECRET = 'iIQRVbZTN625Zn1xRPwDKkOH8Mk4xqrAEn8ICb39CTIeY'\n",
    "CONSUMER_KEY = 'iTrUDoKffZNLfSYvc9ctDXGJZ'\n",
    "CONSUMER_SECRET = 'XEuXkw8AesuyxYaiPG7CSI1r0IhuXhcN8vvTYyimrCoAvMShU4'\n",
    "\n",
    "my_auth = requests_oauthlib.OAuth1(CONSUMER_KEY, CONSUMER_SECRET,ACCESS_TOKEN, ACCESS_SECRET)"
   ]
  },
  {
   "cell_type": "code",
   "execution_count": 2,
   "metadata": {},
   "outputs": [],
   "source": [
    "def get_tweets():\n",
    "    url = 'https://stream.twitter.com/1.1/statuses/filter.json'\n",
    "    query_data = [('language', 'en'), ('locations', '-130,-20,100,50'),('track','#')]\n",
    "    query_url = url + '?' + '&'.join([str(t[0]) + '=' + str(t[1]) for t in query_data]) \n",
    "    response = requests.get(query_url, auth=my_auth, stream=True)\n",
    "    print(query_url, response)\n",
    "    return response\n",
    "\n",
    "def send_tweets_to_spark(http_resp, tcp_connection): \n",
    "    for line in http_resp.iter_lines():\n",
    "        try:\n",
    "            full_tweet = json.loads(line) \n",
    "            tweet_text = full_tweet['text']\n",
    "            print(tweet_text) \n",
    "            tcp_connection.send((tweet_text + '\\n').encode())\n",
    "        except:\n",
    "            e = sys.exc_info()[0]\n",
    "            print(e)"
   ]
  },
  {
   "cell_type": "code",
   "execution_count": 3,
   "metadata": {},
   "outputs": [
    {
     "name": "stdout",
     "output_type": "stream",
     "text": [
      "Waiting for TCP connection...\n",
      "conn = <socket.socket fd=46, family=AddressFamily.AF_INET, type=SocketKind.SOCK_STREAM, proto=0, laddr=('127.0.0.1', 10005), raddr=('127.0.0.1', 33270)>\n",
      "addr = ('127.0.0.1', 33270)\n",
      "Connected... Starting getting tweets.\n",
      "https://stream.twitter.com/1.1/statuses/filter.json?language=en&locations=-130,-20,100,50&track=# <Response [200]>\n"
     ]
    }
   ],
   "source": [
    "TCP_IP = \"localhost\"\n",
    "TCP_PORT = 10005\n",
    "conn = None\n",
    "s = socket.socket(socket.AF_INET, socket.SOCK_STREAM) \n",
    "# try bind the port\n",
    "for i in range(30):\n",
    "    try:\n",
    "        s.bind((TCP_IP, TCP_PORT))\n",
    "        break\n",
    "    except:\n",
    "        print(\"connecting...\")\n",
    "        time.sleep(3)\n",
    "if(i == 29):\n",
    "    raise Exception(\"Can not bind the port, port in use\")\n",
    "s.listen(1)\n",
    "print(\"Waiting for TCP connection...\")\n",
    "conn, addr = s.accept()\n",
    "print(\"conn = \"+ str(conn))\n",
    "print(\"addr = \" + str(addr))\n",
    "print(\"Connected... Starting getting tweets.\") \n",
    "resp = get_tweets()\n",
    "# print(\"get_tweets finished\")\n",
    "# send_tweets_to_spark(resp, conn)\n",
    "# print(\"send_tweets_to_spark finished\")"
   ]
  },
  {
   "cell_type": "code",
   "execution_count": 4,
   "metadata": {},
   "outputs": [],
   "source": [
    "s.close()"
   ]
  },
  {
   "cell_type": "code",
   "execution_count": null,
   "metadata": {},
   "outputs": [],
   "source": []
  },
  {
   "cell_type": "code",
   "execution_count": null,
   "metadata": {},
   "outputs": [],
   "source": []
  }
 ],
 "metadata": {
  "kernelspec": {
   "display_name": "Python 3",
   "language": "python",
   "name": "python3"
  },
  "language_info": {
   "codemirror_mode": {
    "name": "ipython",
    "version": 3
   },
   "file_extension": ".py",
   "mimetype": "text/x-python",
   "name": "python",
   "nbconvert_exporter": "python",
   "pygments_lexer": "ipython3",
   "version": "3.6.4"
  }
 },
 "nbformat": 4,
 "nbformat_minor": 2
}
