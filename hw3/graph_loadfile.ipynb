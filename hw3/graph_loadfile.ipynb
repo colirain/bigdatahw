{
 "cells": [
  {
   "cell_type": "code",
   "execution_count": 1,
   "metadata": {},
   "outputs": [],
   "source": [
    "# from graphframes import *\n",
    "from pyspark import SparkContext\n",
    "from pyspark import SQLContext\n",
    "sc =SparkContext()\n",
    "sqlContext = SQLContext(sc)"
   ]
  },
  {
   "cell_type": "code",
   "execution_count": 2,
   "metadata": {},
   "outputs": [],
   "source": [
    "edge = sqlContext.read.csv(\"edge.csv\", header = True)\n",
    "node = sqlContext.read.csv(\"node.csv\", header = True)"
   ]
  },
  {
   "cell_type": "code",
   "execution_count": 3,
   "metadata": {},
   "outputs": [
    {
     "name": "stdout",
     "output_type": "stream",
     "text": [
      "+---+----+------------------+\n",
      "|src| dst|        similarity|\n",
      "+---+----+------------------+\n",
      "|  1| 280|0.9569020683327998|\n",
      "|  1| 997|0.9565269894180614|\n",
      "|  1|1236|0.9567461501752356|\n",
      "|  6|  57|0.9623191850941665|\n",
      "|  6|  82|0.9661722872652426|\n",
      "|  6| 131|0.9605763368855117|\n",
      "|  6| 259|0.9578480816300617|\n",
      "|  6| 280|0.9664919540417708|\n",
      "|  6| 339|0.9560469401205195|\n",
      "|  6| 345| 0.956438250975529|\n",
      "|  6| 350|0.9686053837071976|\n",
      "|  6| 463|0.9585969635136617|\n",
      "|  6| 506|0.9506763783946054|\n",
      "|  6| 537|0.9694831585397952|\n",
      "|  6| 541|0.9670311309886417|\n",
      "|  6| 584| 0.966651434080568|\n",
      "|  6| 587|0.9808524669446692|\n",
      "|  6| 646|0.9656450115230039|\n",
      "|  6| 733|0.9649272899386095|\n",
      "|  6| 735|0.9564413495860201|\n",
      "+---+----+------------------+\n",
      "only showing top 20 rows\n",
      "\n",
      "+---+--------------------+--------------------+\n",
      "| id|               title|                 url|\n",
      "+---+--------------------+--------------------+\n",
      "|  0|Test article for ...|https://en.wikine...|\n",
      "|  1|Another test arti...|https://en.wikine...|\n",
      "|  2|Copenhagen hotel ...|https://en.wikine...|\n",
      "|  3|Nokia appoints Mi...|https://en.wikine...|\n",
      "|  4|Six die in US-Ira...|https://en.wikine...|\n",
      "|  5|Tulsa media erron...|https://en.wikine...|\n",
      "|  6|            Victoria|https://en.wikine...|\n",
      "|  7|Continental and U...|https://en.wikine...|\n",
      "|  8|Collingwood and S...|https://en.wikine...|\n",
      "|  9|Leonard Skinner, ...|https://en.wikine...|\n",
      "| 10|Greenpeace demand...|https://en.wikine...|\n",
      "| 11|Belgian Eurovisio...|https://en.wikine...|\n",
      "| 12|Former Ecuadorian...|https://en.wikine...|\n",
      "| 13|Evanston, Illinoi...|https://en.wikine...|\n",
      "| 14|Research in Motio...|https://en.wikine...|\n",
      "| 15|Kenyan court jail...|https://en.wikine...|\n",
      "| 16|Owner of Segway J...|https://en.wikine...|\n",
      "| 17|Genetic link to m...|https://en.wikine...|\n",
      "| 18|Utah police inves...|https://en.wikine...|\n",
      "| 19|White House Chief...|https://en.wikine...|\n",
      "+---+--------------------+--------------------+\n",
      "only showing top 20 rows\n",
      "\n"
     ]
    }
   ],
   "source": [
    "edge.show()\n",
    "node.show()"
   ]
  },
  {
   "cell_type": "markdown",
   "metadata": {},
   "source": [
    "**show the graph**"
   ]
  },
  {
   "cell_type": "code",
   "execution_count": null,
   "metadata": {},
   "outputs": [],
   "source": [
    "from graphframes import *\n",
    "g = GraphFrame(node, edge)\n",
    "g.vertices.show()\n",
    "g.edges.show()"
   ]
  },
  {
   "cell_type": "markdown",
   "metadata": {},
   "source": [
    "**PageRank**"
   ]
  },
  {
   "cell_type": "code",
   "execution_count": null,
   "metadata": {},
   "outputs": [],
   "source": [
    "resultsPR = g.pageRank(resetProbability=0.15, tol=0.01)\n",
    "resultsPR.vertices.select(\"id\", \"pagerank\").show() \n",
    "resultsPR.edges.select(\"src\", \"dst\", \"weight\").show()"
   ]
  },
  {
   "cell_type": "markdown",
   "metadata": {},
   "source": [
    "**Connected Components**"
   ]
  },
  {
   "cell_type": "code",
   "execution_count": null,
   "metadata": {},
   "outputs": [],
   "source": [
    "sc.setCheckpointDir(\"~/hw/hw3\")\n",
    "resultsCN = g.connectedComponents()\n",
    "resultsCN.select(\"id\",\"component\").show()"
   ]
  },
  {
   "cell_type": "markdown",
   "metadata": {},
   "source": [
    "**Triangle Counting**"
   ]
  },
  {
   "cell_type": "code",
   "execution_count": null,
   "metadata": {},
   "outputs": [],
   "source": [
    "resultsTC = g.triangleCount()\n",
    "resultsTC.select(\"id\", \"count\").show()"
   ]
  },
  {
   "cell_type": "code",
   "execution_count": null,
   "metadata": {},
   "outputs": [],
   "source": [
    "# resultsPR.join(resultsCN, resultsPR.id == resultsCN.id) graphframe has no attribute join\n",
    "id = np.array(resultsPR.vertices.select(\"id\",\"pagerank\").collect())\n",
    "id = resultsPR.vertices.select(\"id\",\"pagerank\").toPandas()\n",
    "com = resultsCN.select(\"id\",\"component\").toPandas()\n",
    "id.id = id.id.apply(int)\n",
    "com.id = com.id.apply(int)\n",
    "node_df = id.join(com, on = 'id', lsuffix = 'id', rsuffix = 'rid')\n",
    "node_df = node_df.drop(['idrid'],axis = 1)\n",
    "# rename not work\n",
    "node_df = node_df.rename({0:'ID',1:'PageRank',2:'Component'},axis = \"columns\") \n",
    "node_df.to_csv(\"node_f.csv\",sep = \",\", index = False, encoding = \"utf-8\")"
   ]
  }
 ],
 "metadata": {
  "kernelspec": {
   "display_name": "Python 3",
   "language": "python",
   "name": "python3"
  },
  "language_info": {
   "codemirror_mode": {
    "name": "ipython",
    "version": 3
   },
   "file_extension": ".py",
   "mimetype": "text/x-python",
   "name": "python",
   "nbconvert_exporter": "python",
   "pygments_lexer": "ipython3",
   "version": "3.6.4"
  }
 },
 "nbformat": 4,
 "nbformat_minor": 2
}
